{
  "nbformat": 4,
  "nbformat_minor": 0,
  "metadata": {
    "colab": {
      "private_outputs": true,
      "provenance": [],
      "collapsed_sections": [
        "mDgbUHAGgjLW",
        "KSlN3yHqYklG",
        "EM7whBJCYoAo",
        "y-Ehk30pYrdP",
        "bamQiAODYuh1",
        "QHF8YVU7Yuh3",
        "GwzvFGzlYuh3",
        "qYpmQ266Yuh3",
        "OH-pJp9IphqM",
        "bbFf2-_FphqN",
        "_ouA3fa0phqN",
        "Seke61FWphqN",
        "PIIx-8_IphqN",
        "t27r6nlMphqO",
        "r2jJGEOYphqO",
        "b0JNsNcRphqO",
        "BZR9WyysphqO",
        "jj7wYXLtphqO",
        "eZrbJ2SmphqO",
        "rFu4xreNphqO",
        "YJ55k-q6phqO",
        "gCFgpxoyphqP",
        "OVtJsKN_phqQ",
        "lssrdh5qphqQ",
        "U2RJ9gkRphqQ",
        "1M8mcRywphqQ",
        "tgIPom80phqQ",
        "JMzcOPDDphqR",
        "x-EpHcCOp1ci",
        "X_VqEhTip1ck",
        "8zGJKyg5p1ck",
        "PVzmfK_Ep1ck",
        "n3dbpmDWp1ck",
        "ylSl6qgtp1ck",
        "ZWILFDl5p1ck",
        "M7G43BXep1ck",
        "Ag9LCva-p1cl",
        "E6MkPsBcp1cl",
        "2cELzS2fp1cl",
        "3MPXvC8up1cl",
        "NC_X3p0fY2L0",
        "UV0SzAkaZNRQ",
        "YPEH6qLeZNRQ",
        "q29F0dvdveiT",
        "EXh0U9oCveiU",
        "22aHeOlLveiV",
        "g-ATYxFrGrvw",
        "tEA2Xm5dHt1r",
        "I79__PHVH19G",
        "Ou-I18pAyIpj",
        "fF3858GYyt-u",
        "4_0_7-oCpUZd",
        "hwyV_J3ipUZe",
        "3yB-zSqbpUZe",
        "dEUvejAfpUZe",
        "Fd15vwWVpUZf",
        "bn_IUdTipZyH",
        "49K5P_iCpZyH",
        "Nff-vKELpZyI",
        "kLW572S8pZyI",
        "dWbDXHzopZyI",
        "yLjJCtPM0KBk",
        "7wuGOrhz0itI",
        "id1riN9m0vUs",
        "578E2V7j08f6",
        "89xtkJwZ18nB",
        "67NQN5KX2AMe",
        "GMQiZwjn3iu7",
        "XkPnILGE3zoT",
        "Hlsf0x5436Go",
        "mT9DMSJo4nBL",
        "c49ITxTc407N",
        "OeJFEK0N496M",
        "9ExmJH0g5HBk",
        "cJNqERVU536h",
        "k5UmGsbsOxih",
        "T0VqWOYE6DLQ",
        "qBMux9mC6MCf",
        "-oLEiFgy-5Pf",
        "C74aWNz2AliB",
        "2DejudWSA-a0",
        "pEMng2IbBLp7",
        "rAdphbQ9Bhjc",
        "TNVZ9zx19K6k",
        "nqoHp30x9hH9",
        "rMDnDkt2B6du",
        "yiiVWRdJDDil",
        "1UUpS68QDMuG",
        "kexQrXU-DjzY",
        "T5CmagL3EC8N",
        "BhH2vgX9EjGr",
        "qjKvONjwE8ra",
        "P1XJ9OREExlT",
        "VFOzZv6IFROw",
        "TIqpNgepFxVj",
        "VfCC591jGiD4",
        "OB4l2ZhMeS1U",
        "ArJBuiUVfxKd",
        "4qY1EAkEfxKe",
        "PiV4Ypx8fxKe",
        "TfvqoZmBfxKf",
        "dJ2tPlVmpsJ0",
        "JWYfwnehpsJ1",
        "-jK_YjpMpsJ2",
        "HAih1iBOpsJ2",
        "zVGeBEFhpsJ2",
        "bmKjuQ-FpsJ3",
        "Fze-IPXLpx6K",
        "7AN1z2sKpx6M",
        "9PIHJqyupx6M",
        "_-qAgymDpx6N",
        "Z-hykwinpx6N",
        "h_CCil-SKHpo",
        "cBFFvTBNJzUa",
        "HvGl1hHyA_VK",
        "EyNgTHvd2WFk",
        "KH5McJBi2d8v",
        "iW_Lq9qf2h6X",
        "-Kee-DAl2viO",
        "gCX9965dhzqZ",
        "gIfDvo9L0UH2"
      ],
      "include_colab_link": true
    },
    "kernelspec": {
      "name": "python3",
      "display_name": "Python 3"
    },
    "language_info": {
      "name": "python"
    }
  },
  "cells": [
    {
      "cell_type": "markdown",
      "metadata": {
        "id": "view-in-github",
        "colab_type": "text"
      },
      "source": [
        "<a href=\"https://colab.research.google.com/github/Pratikshathorat96/Retail-Sales-Prediction-ML-regression-/blob/main/new_regression_project_on_retail_store.ipynb\" target=\"_parent\"><img src=\"https://colab.research.google.com/assets/colab-badge.svg\" alt=\"Open In Colab\"/></a>"
      ]
    },
    {
      "cell_type": "markdown",
      "source": [
        "# **Project Name**    - Retail Store Prediction ML regression \n",
        "\n"
      ],
      "metadata": {
        "id": "vncDsAP0Gaoa"
      }
    },
    {
      "cell_type": "markdown",
      "source": [
        "##### **Project Type**    - EDA/Regression\n",
        "##### **Contribution**    - Individual\n",
        "##### **Project By -**    - Pratiksha Akshay Thorat"
      ],
      "metadata": {
        "id": "beRrZCGUAJYm"
      }
    },
    {
      "cell_type": "markdown",
      "source": [
        "![low pratiksha.jpg](data:image/jpeg;base64,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)"
      ],
      "metadata": {
        "id": "MwVtCWJk2tYK"
      }
    },
    {
      "cell_type": "markdown",
      "source": [
        "# **Project Summary -**"
      ],
      "metadata": {
        "id": "FJNUwmbgGyua"
      }
    },
    {
      "cell_type": "markdown",
      "source": [
        "This project aims to predict the daily sales of 1,115 Rossmann stores across Europe for up to six weeks in advance using machine learning regression models. The model takes into consideration various factors that influence store sales, such as promotions, competition, holidays, seasonality, and locality.\n",
        "\n",
        "Dataset\n",
        "\n",
        "The dataset used for this project contains historical sales data for Rossmann stores, including 1,115 stores in 7 European countries. The dataset can be obtained from\n",
        "\n",
        "My drive link to dataset -\n",
        "\n",
        "Rossman store data https://drive.google.com/file/d/1Z3SFeRqKGgV6Cg-aXFr2GhYC1sAwHyzg/view?usp=sharing\n",
        "\n",
        "store - https://drive.google.com/file/d/1Q7g0D1FquwKcaLpXd4gzecJ9Tt4Hz20T/view?usp=sharing\n",
        "\n",
        "Kaggle: https://www.kaggle.com/c/rossmann-store-sales/data.\n",
        "\n",
        "Requirements\n",
        "\n",
        "The following Python libraries are required to run the code in this project:\n",
        "\n",
        "numpy pandas matplotlib seaborn scikit-learn The code was developed and tested using Python 3.7.9 on a Windows 10 machine.\n",
        "\n",
        "Files\n",
        "\n",
        "rossmann-store-sales-prediction.ipynb: Jupyter notebook containing the code for data exploration, preprocessing, feature engineering, model training and evaluation. rossmann-store-sales-prediction.html: HTML version of the Jupyter notebook for easier viewing. rossmann-store-sales-prediction.py: Python script containing the final version of the code. rossmann-store-sales-prediction-model.pkl: Pickled version of the trained machine learning model.\n",
        "\n",
        "Methodology\n",
        "\n",
        "The project follows the following steps:\n",
        "\n",
        "Data exploration: Analysing the dataset and getting insights about the data. Data preprocessing: Handling missing values and feature engineering. Feature engineering: Creating new features that could impact the target variable. Model selection: Testing different machine learning regression models. Model training and evaluation: Training the selected model and evaluating its performance using cross-validation. Hyperparameter tuning: Optimizing the model's hyperparameters. Final model: Training the final model on the entire dataset. Prediction: Using the final model to make sales predictions for the test set.\n",
        "\n",
        "Conclusion\n",
        "\n",
        "The developed machine learning regression model can predict daily sales for up to six weeks in advance for Rossmann stores with a high level of accuracy. The model can help Rossmann store managers make informed decisions regarding inventory management, staffing, and promotional strategies, ultimately leading to increased sales and profitability for the business.\n",
        "\n",
        "Contribution\n",
        "\n",
        "Pratiksha Akshay Thorat"
      ],
      "metadata": {
        "id": "F6v_1wHtG2nS"
      }
    },
    {
      "cell_type": "markdown",
      "source": [
        "# **GitHub Link -**"
      ],
      "metadata": {
        "id": "w6K7xa23Elo4"
      }
    },
    {
      "cell_type": "markdown",
      "source": [
        "https://github.com/Pratikshathorat96/Retail-Sales-Prediction-ML-regression-.git"
      ],
      "metadata": {
        "id": "h1o69JH3Eqqn"
      }
    },
    {
      "cell_type": "markdown",
      "source": [
        "# **Problem Statement**\n"
      ],
      "metadata": {
        "id": "yQaldy8SH6Dl"
      }
    },
    {
      "cell_type": "markdown",
      "source": [
        "The problem statement for this project is to develop a machine learning regression model that accurately predicts the daily sales for up to six weeks in advance for 1,115 Rossmann stores across Europe. The model should take into account various factors that influence store sales, such as promotions, competition, holidays, seasonality, and locality. The ultimate goal is to help Rossmann store managers make informed decisions regarding inventory management, staffing, and promotional strategies, leading to increased sales and profitability for the business."
      ],
      "metadata": {
        "id": "DpeJGUA3kjGy"
      }
    },
    {
      "cell_type": "markdown",
      "source": [
        "# **General Guidelines** : -  "
      ],
      "metadata": {
        "id": "mDgbUHAGgjLW"
      }
    },
    {
      "cell_type": "markdown",
      "source": [
        "1.   Well-structured, formatted, and commented code is required. \n",
        "2.   Exception Handling, Production Grade Code & Deployment Ready Code will be a plus. Those students will be awarded some additional credits. \n",
        "     \n",
        "     The additional credits will have advantages over other students during Star Student selection.\n",
        "       \n",
        "             [ Note: - Deployment Ready Code is defined as, the whole .ipynb notebook should be executable in one go\n",
        "                       without a single error logged. ]\n",
        "\n",
        "3.   Each and every logic should have proper comments.\n",
        "4. You may add as many number of charts you want. Make Sure for each and every chart the following format should be answered.\n",
        "        \n",
        "\n",
        "```\n",
        "# Chart visualization code\n",
        "```\n",
        "            \n",
        "\n",
        "*   Why did you pick the specific chart?\n",
        "*   What is/are the insight(s) found from the chart?\n",
        "* Will the gained insights help creating a positive business impact? \n",
        "Are there any insights that lead to negative growth? Justify with specific reason.\n",
        "\n",
        "5. You have to create at least 15 logical & meaningful charts having important insights.\n",
        "\n",
        "\n",
        "[ Hints : - Do the Vizualization in  a structured way while following \"UBM\" Rule. \n",
        "\n",
        "U - Univariate Analysis,\n",
        "\n",
        "B - Bivariate Analysis (Numerical - Categorical, Numerical - Numerical, Categorical - Categorical)\n",
        "\n",
        "M - Multivariate Analysis\n",
        " ]\n",
        "\n",
        "\n",
        "\n",
        "\n",
        "\n",
        "6. You may add more ml algorithms for model creation. Make sure for each and every algorithm, the following format should be answered.\n",
        "\n",
        "\n",
        "*   Explain the ML Model used and it's performance using Evaluation metric Score Chart.\n",
        "\n",
        "\n",
        "*   Cross- Validation & Hyperparameter Tuning\n",
        "\n",
        "*   Have you seen any improvement? Note down the improvement with updates Evaluation metric Score Chart.\n",
        "\n",
        "*   Explain each evaluation metric's indication towards business and the business impact pf the ML model used.\n",
        "\n",
        "\n",
        "\n",
        "\n",
        "\n",
        "\n",
        "\n",
        "\n",
        "\n",
        "\n",
        "\n",
        "\n",
        "\n",
        "\n",
        "\n",
        "\n",
        "\n",
        "\n"
      ],
      "metadata": {
        "id": "ZrxVaUj-hHfC"
      }
    },
    {
      "cell_type": "markdown",
      "source": [
        "# ***Let's Begin !***"
      ],
      "metadata": {
        "id": "O_i_v8NEhb9l"
      }
    },
    {
      "cell_type": "markdown",
      "source": [
        "## ***1. Know Your Data***"
      ],
      "metadata": {
        "id": "HhfV-JJviCcP"
      }
    },
    {
      "cell_type": "markdown",
      "source": [],
      "metadata": {
        "id": "NoTBKqYI3geS"
      }
    },
    {
      "cell_type": "markdown",
      "source": [
        "Data Description\n",
        "\n",
        "Rossmann Stores Data.csv - historical data including Sales\n",
        "\n",
        "store.csv - supplemental information about the stores\n",
        "\n",
        "Data fields\n",
        "\n",
        "Most of the fields are self-explanatory.\n",
        "\n",
        "*   Id - an Id that represents a (Store, Date) duple within the set\n",
        "*   Store - a unique Id for each store\n",
        "*   Sales - the turnover for any given day (Dependent Variable)\n",
        "*   Customers - the number of customers on a given day\n",
        "*   Open - an indicator for whether the store was open: 0 = closed, 1 = open\n",
        "*   StateHoliday - indicates a state holiday. Normally all stores, with few exceptions, are closed on state holidays. Note that all schools are closed on public holidays and weekends. a = public holiday, b = Easter holiday, c = Christmas, 0 = None\n",
        "*   SchoolHoliday - indicates if the (Store, Date) was affected by the closure of public schools\n",
        "*   StoreType - differentiates between 4 different store models: a, b, c, d\n",
        "*   Assortment - describes an assortment level: a = basic, b = extra, c = extended. An assortment strategy in retailing involves the number and type of products that stores display for purchase by consumers.\n",
        "*   CompetitionDistance - distance in meters to the nearest competitor store\n",
        "*   CompetitionOpenSince[Month/Year] - gives the approximate year and month of the time the nearest competitor was opened\n",
        "*   CompetitionOpenSince[Month/Year] - gives the approximate year and month of the time the nearest competitor was opened\n",
        "*   Promo2 - Promo2 is a continuing and consecutive promotion for some stores: 0 = store is not participating, 1 = store is participating\n",
        "*   Promo2Since[Year/Week] - describes the year and calendar week when the store started participating in Promo2\n",
        "*   PromoInterval - describes the consecutive intervals Promo2 is started, naming the months the promotion is started anew. E.g. \"Feb,May,Aug,Nov\" means each round starts in February, May, August, November of any given year for that store\n",
        "\n",
        "\n",
        "\n",
        "\n",
        "\n",
        "\n",
        "\n",
        "\n",
        "\n",
        "\n",
        "\n",
        "\n",
        "\n",
        "\n",
        "\n",
        "\n"
      ],
      "metadata": {
        "id": "xhjl95_0jU01"
      }
    },
    {
      "cell_type": "markdown",
      "source": [
        "### Import Libraries"
      ],
      "metadata": {
        "id": "Y3lxredqlCYt"
      }
    },
    {
      "cell_type": "code",
      "source": [
        "# Import necessary Libraries\n",
        "import numpy as np\n",
        "import pandas as pd\n",
        "import matplotlib.pyplot as plt\n",
        "%matplotlib inline\n",
        "from datetime import datetime\n",
        "import seaborn as sns\n",
        "import plotly.express as px\n",
        "import pandas as pd\n",
        "import ast \n",
        "import math\n",
        "import random\n",
        "from scipy.stats import skew\n",
        "from statsmodels.stats.outliers_influence import variance_inflation_factor\n",
        "from sklearn.preprocessing import OneHotEncoder\n",
        "from sklearn.model_selection import train_test_split\n",
        "from sklearn.preprocessing import StandardScaler\n",
        "from sklearn.pipeline import Pipeline\n",
        "from sklearn.model_selection import GridSearchCV\n",
        "from sklearn.model_selection import RandomizedSearchCV\n",
        "from sklearn.linear_model import LinearRegression, Ridge, Lasso, ElasticNet\n",
        "from sklearn.tree import DecisionTreeRegressor\n",
        "from sklearn.ensemble import RandomForestRegressor\n",
        "import xgboost as xgb\n",
        "from sklearn.metrics import r2_score\n",
        "from sklearn.metrics import mean_squared_error\n",
        "import pickle\n",
        "\n",
        "#to display all the graph in the workbook \n",
        "%matplotlib inline\n",
        "sns.set_style(\"whitegrid\",{'grid.linestyle': '--'})\n",
        "import warnings\n",
        "warnings.filterwarnings(\"ignore\")"
      ],
      "metadata": {
        "id": "Rl6qf2Rv3qwl"
      },
      "execution_count": null,
      "outputs": []
    },
    {
      "cell_type": "markdown",
      "source": [
        "### Dataset Loading"
      ],
      "metadata": {
        "id": "3RnN4peoiCZX"
      }
    },
    {
      "cell_type": "code",
      "source": [
        "# Load Dataset\n",
        "#Rossmann Data\n",
        "sales_df = pd.read_csv(\"/content/Rossmann Stores Data.csv\", low_memory=False)\n",
        "#store data\n",
        "store_df = pd.read_csv(\"/content/store (1).csv\", low_memory=False)"
      ],
      "metadata": {
        "id": "4CkvbW_SlZ_R"
      },
      "execution_count": null,
      "outputs": []
    },
    {
      "cell_type": "markdown",
      "source": [
        "### Dataset First View"
      ],
      "metadata": {
        "id": "x71ZqKXriCWQ"
      }
    },
    {
      "cell_type": "code",
      "source": [
        "# Dataset First Look\n",
        "sales_df.head()"
      ],
      "metadata": {
        "id": "LWNFOSvLl09H"
      },
      "execution_count": null,
      "outputs": []
    },
    {
      "cell_type": "code",
      "source": [
        "sales_df.tail()"
      ],
      "metadata": {
        "id": "zpMW7XqO4iWp"
      },
      "execution_count": null,
      "outputs": []
    },
    {
      "cell_type": "markdown",
      "source": [
        "### Dataset Rows & Columns count"
      ],
      "metadata": {
        "id": "7hBIi_osiCS2"
      }
    },
    {
      "cell_type": "code",
      "source": [
        "# Dataset Rows & Columns count\n",
        "#overall row and coloumns \n",
        "overall_number_of_row_and_columns  = sales_df.shape\n",
        "print(overall_number_of_row_and_columns)"
      ],
      "metadata": {
        "id": "Kllu7SJgmLij"
      },
      "execution_count": null,
      "outputs": []
    },
    {
      "cell_type": "code",
      "source": [
        "# Total number of rows \n",
        "number_of_rows = len(sales_df.index)\n",
        "print(number_of_rows)"
      ],
      "metadata": {
        "id": "RFQs5m-N5Q8x"
      },
      "execution_count": null,
      "outputs": []
    },
    {
      "cell_type": "code",
      "source": [
        "# Total number of columns \n",
        "number_of_columns = len(sales_df.columns)\n",
        "print(number_of_columns)"
      ],
      "metadata": {
        "id": "EyOUfUOf5TOx"
      },
      "execution_count": null,
      "outputs": []
    },
    {
      "cell_type": "code",
      "source": [
        "# Column names \n",
        "sales_df.columns "
      ],
      "metadata": {
        "id": "55QzQOUu6enS"
      },
      "execution_count": null,
      "outputs": []
    },
    {
      "cell_type": "markdown",
      "source": [
        "### Dataset Information"
      ],
      "metadata": {
        "id": "JlHwYmJAmNHm"
      }
    },
    {
      "cell_type": "code",
      "source": [
        "# Dataset Info\n",
        "sales_df.info()"
      ],
      "metadata": {
        "id": "e9hRXRi6meOf"
      },
      "execution_count": null,
      "outputs": []
    },
    {
      "cell_type": "code",
      "source": [
        "#checking description of data\n",
        "sales_df.describe().transpose()"
      ],
      "metadata": {
        "id": "HMmsbfQ55GYh"
      },
      "execution_count": null,
      "outputs": []
    },
    {
      "cell_type": "markdown",
      "source": [
        "#### Duplicate Values"
      ],
      "metadata": {
        "id": "35m5QtbWiB9F"
      }
    },
    {
      "cell_type": "code",
      "source": [
        "# Dataset Duplicate Value Count\n",
        "df2 = sales_df.pivot_table(index = ['Store', 'DayOfWeek', 'Date', 'Sales', 'Customers', 'Open', 'Promo',\n",
        "       'StateHoliday', 'SchoolHoliday'],)\n",
        "print(df2)"
      ],
      "metadata": {
        "id": "1sLdpKYkmox0"
      },
      "execution_count": null,
      "outputs": []
    },
    {
      "cell_type": "markdown",
      "source": [
        "#### Missing Values/Null Values"
      ],
      "metadata": {
        "id": "PoPl-ycgm1ru"
      }
    },
    {
      "cell_type": "code",
      "source": [
        "# Missing Values/Null Values Count\n",
        "sales_df.isnull().sum()"
      ],
      "metadata": {
        "id": "GgHWkxvamxVg"
      },
      "execution_count": null,
      "outputs": []
    },
    {
      "cell_type": "code",
      "source": [
        "# store info\n",
        "store_df.info()"
      ],
      "metadata": {
        "id": "WRIzsYVp7x8C"
      },
      "execution_count": null,
      "outputs": []
    },
    {
      "cell_type": "code",
      "source": [
        "# Visualizing the missing values\n",
        "import missingno as msno\n",
        "msno.matrix(sales_df)"
      ],
      "metadata": {
        "id": "3q5wnI3om9sJ"
      },
      "execution_count": null,
      "outputs": []
    },
    {
      "cell_type": "markdown",
      "source": [
        "### What did you know about your dataset?"
      ],
      "metadata": {
        "id": "H0kj-8xxnORC"
      }
    },
    {
      "cell_type": "markdown",
      "source": [
        "Answer Here"
      ],
      "metadata": {
        "id": "gfoNAAC-nUe_"
      }
    },
    {
      "cell_type": "markdown",
      "source": [
        "## ***2. Understanding Your Variables***"
      ],
      "metadata": {
        "id": "nA9Y7ga8ng1Z"
      }
    },
    {
      "cell_type": "code",
      "source": [
        "#overall row and coloumns \n",
        "overall_number_of_row_and_columns  = sales_df.shape\n",
        "print(overall_number_of_row_and_columns)"
      ],
      "metadata": {
        "id": "XuylvKxS9JWC"
      },
      "execution_count": null,
      "outputs": []
    },
    {
      "cell_type": "code",
      "source": [
        "# Dataset Columns\n",
        "number_of_columns = len(sales_df.columns)\n",
        "print(number_of_columns)"
      ],
      "metadata": {
        "id": "j7xfkqrt5Ag5"
      },
      "execution_count": null,
      "outputs": []
    },
    {
      "cell_type": "code",
      "source": [
        "# Column names \n",
        "sales_df.columns "
      ],
      "metadata": {
        "id": "k5893sGZ9tWq"
      },
      "execution_count": null,
      "outputs": []
    },
    {
      "cell_type": "code",
      "source": [
        "# Dataset Describe\n",
        "sales_df.describe(include='all') \n",
        "#distribution and range of the values in the dataset"
      ],
      "metadata": {
        "id": "DnOaZdaE5Q5t"
      },
      "execution_count": null,
      "outputs": []
    },
    {
      "cell_type": "markdown",
      "source": [
        "### Variables Description "
      ],
      "metadata": {
        "id": "PBTbrJXOngz2"
      }
    },
    {
      "cell_type": "markdown",
      "source": [
        "1. Store ID: An integer that uniquely identifies each store.\n",
        "\n",
        "2. DayOfWeek: An integer that represents the day of the week (1 for Monday, 2 for Tuesday, etc.).\n",
        "\n",
        "3. Date: The date of the observation.\n",
        "\n",
        "4. Open: A binary variable indicating whether the store was open on the given day.\n",
        "\n",
        "5. Promo: A binary variable indicating whether there was a promotional sale in effect at the store on the given day.\n",
        "\n",
        "6. StateHoliday: A categorical variable indicating whether the day was a state holiday in the store's region.\n",
        "\n",
        "7. SchoolHoliday: A binary variable indicating whether there was a school holiday in the store's region on the given day.\n",
        "\n",
        "8. StoreType: A categorical variable indicating the type of store (a, b, c, or d).\n",
        "\n",
        "9. Assortment: A categorical variable indicating the level of assortment provided in the store (a = basic, b = extra, c = extended).\n",
        "\n",
        "10. CompetitionDistance: The distance in meters to the nearest competitor store.\n",
        "\n",
        "11. CompetitionOpenSince[Month/Year]: The month and year of the nearest competitor store's opening date.\n",
        "\n",
        "12. Promo2: A binary variable indicating whether the store was participating in a continuing and consecutive promotion (i.e. a second ongoing promotion after the first that is not directly related to the first) on the given day.\n",
        "\n",
        "13. Promo2Since[Year/Week]: The year and week of the store's participating in the second promotion.\n",
        "\n",
        "14. PromoInterval: A categorical variable indicating the consecutive intervals at which the store is running the second promotion.\n",
        "\n",
        "15. Sales: The amount of sales for the given day, which is the target variable that we are trying to predict.\n",
        "\n",
        "\n"
      ],
      "metadata": {
        "id": "cLRfqYcC-NWW"
      }
    },
    {
      "cell_type": "markdown",
      "source": [
        "### Check Unique Values for each variable."
      ],
      "metadata": {
        "id": "u3PMJOP6ngxN"
      }
    },
    {
      "cell_type": "code",
      "source": [
        "# Check Unique Values for each variable.\n"
      ],
      "metadata": {
        "id": "zms12Yq5n-jE"
      },
      "execution_count": null,
      "outputs": []
    },
    {
      "cell_type": "code",
      "source": [
        "# CompetitionDistance - distance in meters to the nearest competitor store\n",
        "\n",
        "sales_df['SchoolHoliday'] .unique()\n",
        "     "
      ],
      "metadata": {
        "id": "qgkDAWwQ-oK6"
      },
      "execution_count": null,
      "outputs": []
    },
    {
      "cell_type": "code",
      "source": [
        "store_df.isnull().sum()"
      ],
      "metadata": {
        "id": "j8Cua2e7-tEC"
      },
      "execution_count": null,
      "outputs": []
    },
    {
      "cell_type": "code",
      "source": [
        "# creates a list li containing the names of three columns,\n",
        "# and then loops over the list to print the unique values in each of the three columns in a DataFrame \n",
        "for i in li:\n",
        "  print(i)\n",
        "  print(sales_df[i].unique())\n",
        "  print(\"-----------------------\")\n",
        "     "
      ],
      "metadata": {
        "id": "sYr2dKkW-vxC"
      },
      "execution_count": null,
      "outputs": []
    },
    {
      "cell_type": "code",
      "source": [
        "store_df.nunique()\n",
        "#unique value of store\n",
        "     "
      ],
      "metadata": {
        "id": "zQtSBPsZ-7Mi"
      },
      "execution_count": null,
      "outputs": []
    },
    {
      "cell_type": "code",
      "source": [
        "# STORE DATASET FILL INTO NULL VALUES I.E 0\n",
        "store_df['CompetitionDistance'] = store_df['CompetitionDistance'].fillna(0)\n",
        "store_df['CompetitionOpenSinceMonth'] = store_df['CompetitionOpenSinceMonth'].fillna(0)\n",
        "store_df['CompetitionOpenSinceYear'] = store_df['CompetitionOpenSinceYear'].fillna(0)\n",
        "store_df['Promo2SinceWeek'] = store_df['Promo2SinceWeek'].fillna(0)\n",
        "store_df['Promo2SinceYear'] = store_df['Promo2SinceYear'].fillna(0)\n",
        "store_df['PromoInterval'] = store_df['PromoInterval'].fillna(0)\n"
      ],
      "metadata": {
        "id": "hB1b2WbT_I_z"
      },
      "execution_count": null,
      "outputs": []
    },
    {
      "cell_type": "code",
      "source": [
        "store_df.isna().sum()\n",
        "#count the number of missing values in each column"
      ],
      "metadata": {
        "id": "TxqK5Cn2_OIr"
      },
      "execution_count": null,
      "outputs": []
    },
    {
      "cell_type": "code",
      "source": [
        "store_df"
      ],
      "metadata": {
        "id": "LNhPskh2_gqq"
      },
      "execution_count": null,
      "outputs": []
    },
    {
      "cell_type": "markdown",
      "source": [
        "## 3. ***Data Wrangling***"
      ],
      "metadata": {
        "id": "dauF4eBmngu3"
      }
    },
    {
      "cell_type": "markdown",
      "source": [
        "### Data Wrangling Code"
      ],
      "metadata": {
        "id": "bKJF3rekwFvQ"
      }
    },
    {
      "cell_type": "code",
      "source": [
        "# Merge the two datasets based on the 'Store' column on left\n",
        "total_df = pd.merge(sales_df, store_df, on='Store', how='left')\n",
        "print(\"Data has been successfully merged\")\n"
      ],
      "metadata": {
        "id": "JigrSGV4_lQi"
      },
      "execution_count": null,
      "outputs": []
    },
    {
      "cell_type": "code",
      "source": [
        "total_df"
      ],
      "metadata": {
        "id": "kTjjH6myATuK"
      },
      "execution_count": null,
      "outputs": []
    },
    {
      "cell_type": "code",
      "source": [
        "# change datatype object into date format \n",
        "sales_df['Date'].unique()"
      ],
      "metadata": {
        "id": "9LQwTEH99ftL"
      },
      "execution_count": null,
      "outputs": []
    },
    {
      "cell_type": "code",
      "source": [
        "#Change data types object to int \n",
        "total_df.loc[total_df['StateHoliday'] == '0', 'StateHoliday'] = 0\n",
        "total_df.loc[total_df['StateHoliday'] == 'a', 'StateHoliday'] = 1\n",
        "total_df.loc[total_df['StateHoliday'] == 'b', 'StateHoliday'] = 2\n",
        "total_df.loc[total_df['StateHoliday'] == 'c', 'StateHoliday'] = 3\n",
        "#store the value with same column name i.e StateHoliday with function astype\n",
        "total_df['StateHoliday'] = total_df['StateHoliday'].astype(int, copy=False)\n",
        "     "
      ],
      "metadata": {
        "id": "a4JkX71MCjKj"
      },
      "execution_count": null,
      "outputs": []
    },
    {
      "cell_type": "code",
      "source": [
        "# change Data Types object into int \n",
        "total_df.loc[total_df['Assortment'] == 'a', 'Assortment'] = 0\n",
        "total_df.loc[total_df['Assortment'] == 'b', 'Assortment'] = 1\n",
        "total_df.loc[total_df['Assortment'] == 'c', 'Assortment'] = 2\n",
        "#store the value with same column name i.e Assortment with function astype\n",
        "total_df['Assortment'] = total_df['Assortment'].astype(int, copy=False)"
      ],
      "metadata": {
        "id": "q3AGF8P8C5iD"
      },
      "execution_count": null,
      "outputs": []
    },
    {
      "cell_type": "code",
      "source": [
        "# change Data Types object into int \n",
        "total_df.loc[total_df['StoreType'] == 'a', 'StoreType'] = 0\n",
        "total_df.loc[total_df['StoreType'] == 'b', 'StoreType'] = 1\n",
        "total_df.loc[total_df['StoreType'] == 'c', 'StoreType'] = 2\n",
        "total_df.loc[total_df['StoreType'] == 'd', 'StoreType'] = 3\n",
        "#store the value with same column name i.e Assortment with function astype\n",
        "total_df['StoreType'] = total_df['StoreType'].astype(int, copy=False)\n"
      ],
      "metadata": {
        "id": "qqV68DO4DKfq"
      },
      "execution_count": null,
      "outputs": []
    },
    {
      "cell_type": "code",
      "source": [
        "print(total_df[['StateHoliday', 'Assortment', 'StoreType']].nunique())"
      ],
      "metadata": {
        "id": "04Zx-tlCDecb"
      },
      "execution_count": null,
      "outputs": []
    },
    {
      "cell_type": "code",
      "source": [
        "total_df.info()"
      ],
      "metadata": {
        "id": "AojSubi_DmLK"
      },
      "execution_count": null,
      "outputs": []
    },
    {
      "cell_type": "code",
      "source": [
        "total_df[\"Sales\"].value_counts()"
      ],
      "metadata": {
        "id": "nFlJMyQJDsZT"
      },
      "execution_count": null,
      "outputs": []
    },
    {
      "cell_type": "code",
      "source": [
        "# code for changing format of date from object to datetime\n",
        "total_df['Date'] = pd.to_datetime(total_df['Date'], format= '%Y-%m-%d')"
      ],
      "metadata": {
        "id": "s6t7UTH4D3ey"
      },
      "execution_count": null,
      "outputs": []
    },
    {
      "cell_type": "code",
      "source": [
        "# code for change object into date format\n",
        "total_df['CompetitionOpenSinceMonth'] = pd.DatetimeIndex(total_df['Date']).month"
      ],
      "metadata": {
        "id": "DufeMAdeEQSL"
      },
      "execution_count": null,
      "outputs": []
    },
    {
      "cell_type": "code",
      "source": [
        "# code for change float into integer \n",
        "total_df['CompetitionOpenSinceYear']= total_df['CompetitionOpenSinceYear'].astype(int)\n",
        "total_df['Promo2SinceYear']= total_df['Promo2SinceYear'].astype(int)"
      ],
      "metadata": {
        "id": "zZJk-T0sEX1r"
      },
      "execution_count": null,
      "outputs": []
    },
    {
      "cell_type": "code",
      "source": [
        "# code for change float into integer \n",
        "total_df['CompetitionDistance']= total_df['CompetitionDistance'].astype(int)\n",
        "total_df['Promo2SinceWeek']= total_df['Promo2SinceWeek'].astype(int)\n",
        "     "
      ],
      "metadata": {
        "id": "cVxbQFrWEimT"
      },
      "execution_count": null,
      "outputs": []
    },
    {
      "cell_type": "code",
      "source": [
        "total_df.info()"
      ],
      "metadata": {
        "id": "wVkIBKKKEofE"
      },
      "execution_count": null,
      "outputs": []
    },
    {
      "cell_type": "markdown",
      "source": [
        "### What all manipulations have you done and insights you found?"
      ],
      "metadata": {
        "id": "MSa1f5Uengrz"
      }
    },
    {
      "cell_type": "markdown",
      "source": [
        "Answer Here."
      ],
      "metadata": {
        "id": "LbyXE7I1olp8"
      }
    },
    {
      "cell_type": "markdown",
      "source": [],
      "metadata": {
        "id": "v2OCYiz4Eydb"
      }
    },
    {
      "cell_type": "markdown",
      "source": [
        "## ***4. Data Vizualization, Storytelling & Experimenting with charts : Understand the relationships between variables***"
      ],
      "metadata": {
        "id": "GF8Ens_Soomf"
      }
    },
    {
      "cell_type": "markdown",
      "source": [
        "#### Chart - What are the sales figures based on the variables 'DayOfWeek', 'Open', 'Promo', 'StateHoliday', 'SchoolHoliday', 'StoreType', 'Assortment', 'CompetitionOpenSinceMonth', 'Promo2', 'Promo2SinceYear', and 'PromoInterval'? "
      ],
      "metadata": {
        "id": "0wOQAZs5pc--"
      }
    },
    {
      "cell_type": "code",
      "source": [
        "# Chart - 1 visualization code\n",
        "#code for barplots of the categorical variables against sales\n",
        "#iterating over the categorical variables and plotting each of them\n",
        "categorical_variables = ['DayOfWeek','Open','Promo','StateHoliday','SchoolHoliday','StoreType','Assortment',\n",
        "                         'CompetitionOpenSinceMonth','Promo2','Promo2SinceYear','PromoInterval']\n",
        "for value in categorical_variables:\n",
        "  ax = sns.barplot(x=total_df[value], y=total_df['Sales']) \n",
        "  totals = []\n",
        "  for i in ax.patches: #for every patch in the barplot ax\n",
        "      totals.append(i.get_height()) #append height for each patch\n",
        "\n",
        "  total = sum(totals) #sum of each patch height for a plot\n",
        "\n",
        "  for i in ax.patches:  \n",
        "      ax.text(i.get_x() - .01, i.get_height() + .5, \\\n",
        "              str(round((i.get_height()/total)*100, 2))+'%', fontsize=12)  #text position and formula for percentage\n",
        "  plt.show()"
      ],
      "metadata": {
        "id": "7v_ESjsspbW7"
      },
      "execution_count": null,
      "outputs": []
    },
    {
      "cell_type": "markdown",
      "source": [
        "##### 1. Why did you pick the specific chart?"
      ],
      "metadata": {
        "id": "K5QZ13OEpz2H"
      }
    },
    {
      "cell_type": "markdown",
      "source": [
        "I choose bar graph bcouse it's easy to study difference."
      ],
      "metadata": {
        "id": "XESiWehPqBRc"
      }
    },
    {
      "cell_type": "markdown",
      "source": [
        "##### 2. What is/are the insight(s) found from the chart?"
      ],
      "metadata": {
        "id": "lQ7QKXXCp7Bj"
      }
    },
    {
      "cell_type": "markdown",
      "source": [
        "1. There were more sales on Monday, probably because shops generally remain closed on Sundays.\n",
        "2. It could be seen that the Promo leads to more sales.\n",
        "3. Normally all stores, with few exceptions, are closed on state holidays. Note that all schools are closed on public holidays and weekends. a = public holiday, b = Easter holiday, c = Christmas, 0 = None. Lowest of Sales were seen on state holidays especially on Christmas.\n",
        "4. More stores were open on School Holidays than on State Holidays and hence had more sales than State Holidays.\n",
        "5. On an average Store type B had the highest sales.\n",
        "6. Highest average sales were seen with Assortment levels-b which is 'extra'.\n",
        "7. With Promo2, slightly more sales were seen without it which indicates there are many stores not participating in promo."
      ],
      "metadata": {
        "id": "C_j1G7yiqdRP"
      }
    },
    {
      "cell_type": "markdown",
      "source": [
        "##### 3. Will the gained insights help creating a positive business impact? \n",
        "Are there any insights that lead to negative growth? Justify with specific reason."
      ],
      "metadata": {
        "id": "448CDAPjqfQr"
      }
    },
    {
      "cell_type": "markdown",
      "source": [
        "Answer Here"
      ],
      "metadata": {
        "id": "3cspy4FjqxJW"
      }
    },
    {
      "cell_type": "markdown",
      "source": [
        "#### Chart - 2 Find when should we refurbish our store."
      ],
      "metadata": {
        "id": "KSlN3yHqYklG"
      }
    },
    {
      "cell_type": "code",
      "source": [
        "# Chart - 2 visualization code\n",
        "# open and storetype relationship \n",
        "#this indicates - Open suggests that whether the store was open or closed for refurbishment and weekends or holidays\n",
        "sns.barplot(x=total_df[\"Open\"],y=total_df['Sales'],hue=total_df[\"DayOfWeek\"])"
      ],
      "metadata": {
        "id": "R4YgtaqtYklH"
      },
      "execution_count": null,
      "outputs": []
    },
    {
      "cell_type": "markdown",
      "source": [
        "##### 1. Why did you pick the specific chart?"
      ],
      "metadata": {
        "id": "t6dVpIINYklI"
      }
    },
    {
      "cell_type": "markdown",
      "source": [
        "Bar plots are easy to understand."
      ],
      "metadata": {
        "id": "5aaW0BYyYklI"
      }
    },
    {
      "cell_type": "markdown",
      "source": [
        "##### 2. What is/are the insight(s) found from the chart?"
      ],
      "metadata": {
        "id": "ijmpgYnKYklI"
      }
    },
    {
      "cell_type": "markdown",
      "source": [
        "we can see that 1 that is sunday and 7 that is saturday have huge sale rate. and there is a lowest sale rate on 6 that is friday."
      ],
      "metadata": {
        "id": "PSx9atu2YklI"
      }
    },
    {
      "cell_type": "markdown",
      "source": [
        "##### 3. Will the gained insights help creating a positive business impact? \n",
        "Are there any insights that lead to negative growth? Justify with specific reason."
      ],
      "metadata": {
        "id": "-JiQyfWJYklI"
      }
    },
    {
      "cell_type": "markdown",
      "source": [
        "Fore refurbishment we should close store on frieday . "
      ],
      "metadata": {
        "id": "BcBbebzrYklV"
      }
    },
    {
      "cell_type": "markdown",
      "source": [
        "#### Chart - 3 What insights can we draw from the chart regarding the relationship between the number of stores and sales over time? How does competition impact sales, and what is the trend in sales over the years as the number of stores and competition increase?"
      ],
      "metadata": {
        "id": "EM7whBJCYoAo"
      }
    },
    {
      "cell_type": "code",
      "source": [
        "# Chart - 3 visualization code\n",
        "plt.figure(figsize=(15,6))\n",
        "sns.pointplot(x= 'CompetitionOpenSinceYear', y= 'Sales', data=total_df,color='blue')\n",
        "sns.set_style(\"dark\")\n",
        "plt.title('Plot between Sales and Competition Open Since year')"
      ],
      "metadata": {
        "id": "t6GMdE67YoAp"
      },
      "execution_count": null,
      "outputs": []
    },
    {
      "cell_type": "markdown",
      "source": [
        "##### 1. Why did you pick the specific chart?"
      ],
      "metadata": {
        "id": "fge-S5ZAYoAp"
      }
    },
    {
      "cell_type": "markdown",
      "source": [
        "from this line chart we can easily understad the up and downs of sale."
      ],
      "metadata": {
        "id": "5dBItgRVYoAp"
      }
    },
    {
      "cell_type": "markdown",
      "source": [
        "##### 2. What is/are the insight(s) found from the chart?"
      ],
      "metadata": {
        "id": "85gYPyotYoAp"
      }
    },
    {
      "cell_type": "markdown",
      "source": [
        "From This Graph We saw that sales of stores is effected which continues their promotion.The Sales in 2013 and 2015 are very low inspite of promotion.The reason can be more competiton year by year."
      ],
      "metadata": {
        "id": "4jstXR6OYoAp"
      }
    },
    {
      "cell_type": "markdown",
      "source": [
        "##### 3. Will the gained insights help creating a positive business impact? \n",
        "Are there any insights that lead to negative growth? Justify with specific reason."
      ],
      "metadata": {
        "id": "RoGjAbkUYoAp"
      }
    },
    {
      "cell_type": "markdown",
      "source": [
        "The store should promote themselves on social media to get fast result in grouth of sale."
      ],
      "metadata": {
        "id": "zfJ8IqMcYoAp"
      }
    },
    {
      "cell_type": "markdown",
      "source": [
        "#### Chart - 4 What is the relationship between sales and competition since the opening month of the competitor's store? How does the level of competition affect the sales of the store?"
      ],
      "metadata": {
        "id": "4Of9eVA-YrdM"
      }
    },
    {
      "cell_type": "code",
      "source": [
        "# Chart - 4 visualization code\n",
        "plt.figure(figsize=(15,6))\n",
        "sns.pointplot(x= 'CompetitionOpenSinceMonth', y= 'Sales', data=total_df,color='Red')\n",
        "sns.set_style(\"dark\")\n",
        "plt.title('Plot between Sales and CompetitionOpenSinceMonth ')"
      ],
      "metadata": {
        "id": "irlUoxc8YrdO"
      },
      "execution_count": null,
      "outputs": []
    },
    {
      "cell_type": "markdown",
      "source": [
        "##### 1. Why did you pick the specific chart?"
      ],
      "metadata": {
        "id": "iky9q4vBYrdO"
      }
    },
    {
      "cell_type": "markdown",
      "source": [
        "line chart's easily show grouth or shrinking."
      ],
      "metadata": {
        "id": "aJRCwT6DYrdO"
      }
    },
    {
      "cell_type": "markdown",
      "source": [
        "##### 2. What is/are the insight(s) found from the chart?"
      ],
      "metadata": {
        "id": "F6T5p64dYrdO"
      }
    },
    {
      "cell_type": "markdown",
      "source": [
        "In this plot we can see that sales from jan"
      ],
      "metadata": {
        "id": "Xx8WAJvtYrdO"
      }
    },
    {
      "cell_type": "markdown",
      "source": [
        "##### 3. Will the gained insights help creating a positive business impact? \n",
        "Are there any insights that lead to negative growth? Justify with specific reason."
      ],
      "metadata": {
        "id": "y-Ehk30pYrdP"
      }
    },
    {
      "cell_type": "markdown",
      "source": [
        "Answer Here"
      ],
      "metadata": {
        "id": "jLNxxz7MYrdP"
      }
    },
    {
      "cell_type": "markdown",
      "source": [
        "#### Chart - 5"
      ],
      "metadata": {
        "id": "bamQiAODYuh1"
      }
    },
    {
      "cell_type": "code",
      "source": [
        "# Chart - 5 visualization code"
      ],
      "metadata": {
        "id": "TIJwrbroYuh3"
      },
      "execution_count": null,
      "outputs": []
    },
    {
      "cell_type": "markdown",
      "source": [
        "##### 1. Why did you pick the specific chart?"
      ],
      "metadata": {
        "id": "QHF8YVU7Yuh3"
      }
    },
    {
      "cell_type": "markdown",
      "source": [
        "Answer Here."
      ],
      "metadata": {
        "id": "dcxuIMRPYuh3"
      }
    },
    {
      "cell_type": "markdown",
      "source": [
        "##### 2. What is/are the insight(s) found from the chart?"
      ],
      "metadata": {
        "id": "GwzvFGzlYuh3"
      }
    },
    {
      "cell_type": "markdown",
      "source": [
        "Answer Here"
      ],
      "metadata": {
        "id": "uyqkiB8YYuh3"
      }
    },
    {
      "cell_type": "markdown",
      "source": [
        "##### 3. Will the gained insights help creating a positive business impact? \n",
        "Are there any insights that lead to negative growth? Justify with specific reason."
      ],
      "metadata": {
        "id": "qYpmQ266Yuh3"
      }
    },
    {
      "cell_type": "markdown",
      "source": [
        "Answer Here"
      ],
      "metadata": {
        "id": "_WtzZ_hCYuh4"
      }
    },
    {
      "cell_type": "markdown",
      "source": [
        "#### Chart - 6"
      ],
      "metadata": {
        "id": "OH-pJp9IphqM"
      }
    },
    {
      "cell_type": "code",
      "source": [
        "# Chart - 6 visualization code"
      ],
      "metadata": {
        "id": "kuRf4wtuphqN"
      },
      "execution_count": null,
      "outputs": []
    },
    {
      "cell_type": "markdown",
      "source": [
        "##### 1. Why did you pick the specific chart?"
      ],
      "metadata": {
        "id": "bbFf2-_FphqN"
      }
    },
    {
      "cell_type": "markdown",
      "source": [
        "Answer Here."
      ],
      "metadata": {
        "id": "loh7H2nzphqN"
      }
    },
    {
      "cell_type": "markdown",
      "source": [
        "##### 2. What is/are the insight(s) found from the chart?"
      ],
      "metadata": {
        "id": "_ouA3fa0phqN"
      }
    },
    {
      "cell_type": "markdown",
      "source": [
        "Answer Here"
      ],
      "metadata": {
        "id": "VECbqPI7phqN"
      }
    },
    {
      "cell_type": "markdown",
      "source": [
        "##### 3. Will the gained insights help creating a positive business impact? \n",
        "Are there any insights that lead to negative growth? Justify with specific reason."
      ],
      "metadata": {
        "id": "Seke61FWphqN"
      }
    },
    {
      "cell_type": "markdown",
      "source": [
        "Answer Here"
      ],
      "metadata": {
        "id": "DW4_bGpfphqN"
      }
    },
    {
      "cell_type": "markdown",
      "source": [
        "#### Chart - 7"
      ],
      "metadata": {
        "id": "PIIx-8_IphqN"
      }
    },
    {
      "cell_type": "code",
      "source": [
        "# Chart - 7 visualization code"
      ],
      "metadata": {
        "id": "lqAIGUfyphqO"
      },
      "execution_count": null,
      "outputs": []
    },
    {
      "cell_type": "markdown",
      "source": [
        "##### 1. Why did you pick the specific chart?"
      ],
      "metadata": {
        "id": "t27r6nlMphqO"
      }
    },
    {
      "cell_type": "markdown",
      "source": [
        "Answer Here."
      ],
      "metadata": {
        "id": "iv6ro40sphqO"
      }
    },
    {
      "cell_type": "markdown",
      "source": [
        "##### 2. What is/are the insight(s) found from the chart?"
      ],
      "metadata": {
        "id": "r2jJGEOYphqO"
      }
    },
    {
      "cell_type": "markdown",
      "source": [
        "Answer Here"
      ],
      "metadata": {
        "id": "Po6ZPi4hphqO"
      }
    },
    {
      "cell_type": "markdown",
      "source": [
        "##### 3. Will the gained insights help creating a positive business impact? \n",
        "Are there any insights that lead to negative growth? Justify with specific reason."
      ],
      "metadata": {
        "id": "b0JNsNcRphqO"
      }
    },
    {
      "cell_type": "markdown",
      "source": [
        "Answer Here"
      ],
      "metadata": {
        "id": "xvSq8iUTphqO"
      }
    },
    {
      "cell_type": "markdown",
      "source": [
        "#### Chart - 8"
      ],
      "metadata": {
        "id": "BZR9WyysphqO"
      }
    },
    {
      "cell_type": "code",
      "source": [
        "# Chart - 8 visualization code"
      ],
      "metadata": {
        "id": "TdPTWpAVphqO"
      },
      "execution_count": null,
      "outputs": []
    },
    {
      "cell_type": "markdown",
      "source": [
        "##### 1. Why did you pick the specific chart?"
      ],
      "metadata": {
        "id": "jj7wYXLtphqO"
      }
    },
    {
      "cell_type": "markdown",
      "source": [
        "Answer Here."
      ],
      "metadata": {
        "id": "Ob8u6rCTphqO"
      }
    },
    {
      "cell_type": "markdown",
      "source": [
        "##### 2. What is/are the insight(s) found from the chart?"
      ],
      "metadata": {
        "id": "eZrbJ2SmphqO"
      }
    },
    {
      "cell_type": "markdown",
      "source": [
        "Answer Here"
      ],
      "metadata": {
        "id": "mZtgC_hjphqO"
      }
    },
    {
      "cell_type": "markdown",
      "source": [
        "##### 3. Will the gained insights help creating a positive business impact? \n",
        "Are there any insights that lead to negative growth? Justify with specific reason."
      ],
      "metadata": {
        "id": "rFu4xreNphqO"
      }
    },
    {
      "cell_type": "markdown",
      "source": [
        "Answer Here"
      ],
      "metadata": {
        "id": "ey_0qi68phqO"
      }
    },
    {
      "cell_type": "markdown",
      "source": [
        "#### Chart - 9"
      ],
      "metadata": {
        "id": "YJ55k-q6phqO"
      }
    },
    {
      "cell_type": "code",
      "source": [
        "# Chart - 9 visualization code"
      ],
      "metadata": {
        "id": "B2aS4O1ophqO"
      },
      "execution_count": null,
      "outputs": []
    },
    {
      "cell_type": "markdown",
      "source": [
        "##### 1. Why did you pick the specific chart?"
      ],
      "metadata": {
        "id": "gCFgpxoyphqP"
      }
    },
    {
      "cell_type": "markdown",
      "source": [
        "Answer Here."
      ],
      "metadata": {
        "id": "TVxDimi2phqP"
      }
    },
    {
      "cell_type": "markdown",
      "source": [
        "##### 2. What is/are the insight(s) found from the chart?"
      ],
      "metadata": {
        "id": "OVtJsKN_phqQ"
      }
    },
    {
      "cell_type": "markdown",
      "source": [
        "Answer Here"
      ],
      "metadata": {
        "id": "ngGi97qjphqQ"
      }
    },
    {
      "cell_type": "markdown",
      "source": [
        "##### 3. Will the gained insights help creating a positive business impact? \n",
        "Are there any insights that lead to negative growth? Justify with specific reason."
      ],
      "metadata": {
        "id": "lssrdh5qphqQ"
      }
    },
    {
      "cell_type": "markdown",
      "source": [
        "Answer Here"
      ],
      "metadata": {
        "id": "tBpY5ekJphqQ"
      }
    },
    {
      "cell_type": "markdown",
      "source": [
        "#### Chart - 10"
      ],
      "metadata": {
        "id": "U2RJ9gkRphqQ"
      }
    },
    {
      "cell_type": "code",
      "source": [
        "# Chart - 10 visualization code"
      ],
      "metadata": {
        "id": "GM7a4YP4phqQ"
      },
      "execution_count": null,
      "outputs": []
    },
    {
      "cell_type": "markdown",
      "source": [
        "##### 1. Why did you pick the specific chart?"
      ],
      "metadata": {
        "id": "1M8mcRywphqQ"
      }
    },
    {
      "cell_type": "markdown",
      "source": [
        "Answer Here."
      ],
      "metadata": {
        "id": "8agQvks0phqQ"
      }
    },
    {
      "cell_type": "markdown",
      "source": [
        "##### 2. What is/are the insight(s) found from the chart?"
      ],
      "metadata": {
        "id": "tgIPom80phqQ"
      }
    },
    {
      "cell_type": "markdown",
      "source": [
        "Answer Here"
      ],
      "metadata": {
        "id": "Qp13pnNzphqQ"
      }
    },
    {
      "cell_type": "markdown",
      "source": [
        "##### 3. Will the gained insights help creating a positive business impact? \n",
        "Are there any insights that lead to negative growth? Justify with specific reason."
      ],
      "metadata": {
        "id": "JMzcOPDDphqR"
      }
    },
    {
      "cell_type": "markdown",
      "source": [
        "Answer Here"
      ],
      "metadata": {
        "id": "R4Ka1PC2phqR"
      }
    },
    {
      "cell_type": "markdown",
      "source": [
        "#### Chart - 11"
      ],
      "metadata": {
        "id": "x-EpHcCOp1ci"
      }
    },
    {
      "cell_type": "code",
      "source": [
        "# Chart - 11 visualization code"
      ],
      "metadata": {
        "id": "mAQTIvtqp1cj"
      },
      "execution_count": null,
      "outputs": []
    },
    {
      "cell_type": "markdown",
      "source": [
        "##### 1. Why did you pick the specific chart?"
      ],
      "metadata": {
        "id": "X_VqEhTip1ck"
      }
    },
    {
      "cell_type": "markdown",
      "source": [
        "Answer Here."
      ],
      "metadata": {
        "id": "-vsMzt_np1ck"
      }
    },
    {
      "cell_type": "markdown",
      "source": [
        "##### 2. What is/are the insight(s) found from the chart?"
      ],
      "metadata": {
        "id": "8zGJKyg5p1ck"
      }
    },
    {
      "cell_type": "markdown",
      "source": [
        "Answer Here"
      ],
      "metadata": {
        "id": "ZYdMsrqVp1ck"
      }
    },
    {
      "cell_type": "markdown",
      "source": [
        "##### 3. Will the gained insights help creating a positive business impact? \n",
        "Are there any insights that lead to negative growth? Justify with specific reason."
      ],
      "metadata": {
        "id": "PVzmfK_Ep1ck"
      }
    },
    {
      "cell_type": "markdown",
      "source": [
        "Answer Here"
      ],
      "metadata": {
        "id": "druuKYZpp1ck"
      }
    },
    {
      "cell_type": "markdown",
      "source": [
        "#### Chart - 12"
      ],
      "metadata": {
        "id": "n3dbpmDWp1ck"
      }
    },
    {
      "cell_type": "code",
      "source": [
        "# Chart - 12 visualization code"
      ],
      "metadata": {
        "id": "bwevp1tKp1ck"
      },
      "execution_count": null,
      "outputs": []
    },
    {
      "cell_type": "markdown",
      "source": [
        "##### 1. Why did you pick the specific chart?"
      ],
      "metadata": {
        "id": "ylSl6qgtp1ck"
      }
    },
    {
      "cell_type": "markdown",
      "source": [
        "Answer Here."
      ],
      "metadata": {
        "id": "m2xqNkiQp1ck"
      }
    },
    {
      "cell_type": "markdown",
      "source": [
        "##### 2. What is/are the insight(s) found from the chart?"
      ],
      "metadata": {
        "id": "ZWILFDl5p1ck"
      }
    },
    {
      "cell_type": "markdown",
      "source": [
        "Answer Here"
      ],
      "metadata": {
        "id": "x-lUsV2mp1ck"
      }
    },
    {
      "cell_type": "markdown",
      "source": [
        "##### 3. Will the gained insights help creating a positive business impact? \n",
        "Are there any insights that lead to negative growth? Justify with specific reason."
      ],
      "metadata": {
        "id": "M7G43BXep1ck"
      }
    },
    {
      "cell_type": "markdown",
      "source": [
        "Answer Here"
      ],
      "metadata": {
        "id": "5wwDJXsLp1cl"
      }
    },
    {
      "cell_type": "markdown",
      "source": [
        "#### Chart - 13"
      ],
      "metadata": {
        "id": "Ag9LCva-p1cl"
      }
    },
    {
      "cell_type": "code",
      "source": [
        "# Chart - 13 visualization code"
      ],
      "metadata": {
        "id": "EUfxeq9-p1cl"
      },
      "execution_count": null,
      "outputs": []
    },
    {
      "cell_type": "markdown",
      "source": [
        "##### 1. Why did you pick the specific chart?"
      ],
      "metadata": {
        "id": "E6MkPsBcp1cl"
      }
    },
    {
      "cell_type": "markdown",
      "source": [
        "Answer Here."
      ],
      "metadata": {
        "id": "V22bRsFWp1cl"
      }
    },
    {
      "cell_type": "markdown",
      "source": [
        "##### 2. What is/are the insight(s) found from the chart?"
      ],
      "metadata": {
        "id": "2cELzS2fp1cl"
      }
    },
    {
      "cell_type": "markdown",
      "source": [
        "Answer Here"
      ],
      "metadata": {
        "id": "ozQPc2_Ip1cl"
      }
    },
    {
      "cell_type": "markdown",
      "source": [
        "##### 3. Will the gained insights help creating a positive business impact? \n",
        "Are there any insights that lead to negative growth? Justify with specific reason."
      ],
      "metadata": {
        "id": "3MPXvC8up1cl"
      }
    },
    {
      "cell_type": "markdown",
      "source": [
        "Answer Here"
      ],
      "metadata": {
        "id": "GL8l1tdLp1cl"
      }
    },
    {
      "cell_type": "markdown",
      "source": [
        "#### Chart - 14 - Correlation Heatmap"
      ],
      "metadata": {
        "id": "NC_X3p0fY2L0"
      }
    },
    {
      "cell_type": "code",
      "source": [
        "# Correlation Heatmap visualization code"
      ],
      "metadata": {
        "id": "xyC9zolEZNRQ"
      },
      "execution_count": null,
      "outputs": []
    },
    {
      "cell_type": "markdown",
      "source": [
        "##### 1. Why did you pick the specific chart?"
      ],
      "metadata": {
        "id": "UV0SzAkaZNRQ"
      }
    },
    {
      "cell_type": "markdown",
      "source": [
        "Answer Here."
      ],
      "metadata": {
        "id": "DVPuT8LYZNRQ"
      }
    },
    {
      "cell_type": "markdown",
      "source": [
        "##### 2. What is/are the insight(s) found from the chart?"
      ],
      "metadata": {
        "id": "YPEH6qLeZNRQ"
      }
    },
    {
      "cell_type": "markdown",
      "source": [
        "Answer Here"
      ],
      "metadata": {
        "id": "bfSqtnDqZNRR"
      }
    },
    {
      "cell_type": "markdown",
      "source": [
        "#### Chart - 15 - Pair Plot "
      ],
      "metadata": {
        "id": "q29F0dvdveiT"
      }
    },
    {
      "cell_type": "code",
      "source": [
        "# Pair Plot visualization code"
      ],
      "metadata": {
        "id": "o58-TEIhveiU"
      },
      "execution_count": null,
      "outputs": []
    },
    {
      "cell_type": "markdown",
      "source": [
        "##### 1. Why did you pick the specific chart?"
      ],
      "metadata": {
        "id": "EXh0U9oCveiU"
      }
    },
    {
      "cell_type": "markdown",
      "source": [
        "Answer Here."
      ],
      "metadata": {
        "id": "eMmPjTByveiU"
      }
    },
    {
      "cell_type": "markdown",
      "source": [
        "##### 2. What is/are the insight(s) found from the chart?"
      ],
      "metadata": {
        "id": "22aHeOlLveiV"
      }
    },
    {
      "cell_type": "markdown",
      "source": [
        "Answer Here"
      ],
      "metadata": {
        "id": "uPQ8RGwHveiV"
      }
    },
    {
      "cell_type": "markdown",
      "source": [
        "## ***5. Hypothesis Testing***"
      ],
      "metadata": {
        "id": "g-ATYxFrGrvw"
      }
    },
    {
      "cell_type": "markdown",
      "source": [
        "### Based on your chart experiments, define three hypothetical statements from the dataset. In the next three questions, perform hypothesis testing to obtain final conclusion about the statements through your code and statistical testing."
      ],
      "metadata": {
        "id": "Yfr_Vlr8HBkt"
      }
    },
    {
      "cell_type": "markdown",
      "source": [
        "Answer Here."
      ],
      "metadata": {
        "id": "-7MS06SUHkB-"
      }
    },
    {
      "cell_type": "markdown",
      "source": [
        "### Hypothetical Statement - 1"
      ],
      "metadata": {
        "id": "8yEUt7NnHlrM"
      }
    },
    {
      "cell_type": "markdown",
      "source": [
        "#### 1. State Your research hypothesis as a null hypothesis and alternate hypothesis."
      ],
      "metadata": {
        "id": "tEA2Xm5dHt1r"
      }
    },
    {
      "cell_type": "markdown",
      "source": [
        "Answer Here."
      ],
      "metadata": {
        "id": "HI9ZP0laH0D-"
      }
    },
    {
      "cell_type": "markdown",
      "source": [
        "#### 2. Perform an appropriate statistical test."
      ],
      "metadata": {
        "id": "I79__PHVH19G"
      }
    },
    {
      "cell_type": "code",
      "source": [
        "# Perform Statistical Test to obtain P-Value"
      ],
      "metadata": {
        "id": "oZrfquKtyian"
      },
      "execution_count": null,
      "outputs": []
    },
    {
      "cell_type": "markdown",
      "source": [
        "##### Which statistical test have you done to obtain P-Value?"
      ],
      "metadata": {
        "id": "Ou-I18pAyIpj"
      }
    },
    {
      "cell_type": "markdown",
      "source": [
        "Answer Here."
      ],
      "metadata": {
        "id": "s2U0kk00ygSB"
      }
    },
    {
      "cell_type": "markdown",
      "source": [
        "##### Why did you choose the specific statistical test?"
      ],
      "metadata": {
        "id": "fF3858GYyt-u"
      }
    },
    {
      "cell_type": "markdown",
      "source": [
        "Answer Here."
      ],
      "metadata": {
        "id": "HO4K0gP5y3B4"
      }
    },
    {
      "cell_type": "markdown",
      "source": [
        "### Hypothetical Statement - 2"
      ],
      "metadata": {
        "id": "4_0_7-oCpUZd"
      }
    },
    {
      "cell_type": "markdown",
      "source": [
        "#### 1. State Your research hypothesis as a null hypothesis and alternate hypothesis."
      ],
      "metadata": {
        "id": "hwyV_J3ipUZe"
      }
    },
    {
      "cell_type": "markdown",
      "source": [
        "Answer Here."
      ],
      "metadata": {
        "id": "FnpLGJ-4pUZe"
      }
    },
    {
      "cell_type": "markdown",
      "source": [
        "#### 2. Perform an appropriate statistical test."
      ],
      "metadata": {
        "id": "3yB-zSqbpUZe"
      }
    },
    {
      "cell_type": "code",
      "source": [
        "# Perform Statistical Test to obtain P-Value"
      ],
      "metadata": {
        "id": "sWxdNTXNpUZe"
      },
      "execution_count": null,
      "outputs": []
    },
    {
      "cell_type": "markdown",
      "source": [
        "##### Which statistical test have you done to obtain P-Value?"
      ],
      "metadata": {
        "id": "dEUvejAfpUZe"
      }
    },
    {
      "cell_type": "markdown",
      "source": [
        "Answer Here."
      ],
      "metadata": {
        "id": "oLDrPz7HpUZf"
      }
    },
    {
      "cell_type": "markdown",
      "source": [
        "##### Why did you choose the specific statistical test?"
      ],
      "metadata": {
        "id": "Fd15vwWVpUZf"
      }
    },
    {
      "cell_type": "markdown",
      "source": [
        "Answer Here."
      ],
      "metadata": {
        "id": "4xOGYyiBpUZf"
      }
    },
    {
      "cell_type": "markdown",
      "source": [
        "### Hypothetical Statement - 3"
      ],
      "metadata": {
        "id": "bn_IUdTipZyH"
      }
    },
    {
      "cell_type": "markdown",
      "source": [
        "#### 1. State Your research hypothesis as a null hypothesis and alternate hypothesis."
      ],
      "metadata": {
        "id": "49K5P_iCpZyH"
      }
    },
    {
      "cell_type": "markdown",
      "source": [
        "Answer Here."
      ],
      "metadata": {
        "id": "7gWI5rT9pZyH"
      }
    },
    {
      "cell_type": "markdown",
      "source": [
        "#### 2. Perform an appropriate statistical test."
      ],
      "metadata": {
        "id": "Nff-vKELpZyI"
      }
    },
    {
      "cell_type": "code",
      "source": [
        "# Perform Statistical Test to obtain P-Value"
      ],
      "metadata": {
        "id": "s6AnJQjtpZyI"
      },
      "execution_count": null,
      "outputs": []
    },
    {
      "cell_type": "markdown",
      "source": [
        "##### Which statistical test have you done to obtain P-Value?"
      ],
      "metadata": {
        "id": "kLW572S8pZyI"
      }
    },
    {
      "cell_type": "markdown",
      "source": [
        "Answer Here."
      ],
      "metadata": {
        "id": "ytWJ8v15pZyI"
      }
    },
    {
      "cell_type": "markdown",
      "source": [
        "##### Why did you choose the specific statistical test?"
      ],
      "metadata": {
        "id": "dWbDXHzopZyI"
      }
    },
    {
      "cell_type": "markdown",
      "source": [
        "Answer Here."
      ],
      "metadata": {
        "id": "M99G98V6pZyI"
      }
    },
    {
      "cell_type": "markdown",
      "source": [
        "## ***6. Feature Engineering & Data Pre-processing***"
      ],
      "metadata": {
        "id": "yLjJCtPM0KBk"
      }
    },
    {
      "cell_type": "markdown",
      "source": [
        "### 1. Handling Missing Values"
      ],
      "metadata": {
        "id": "xiyOF9F70UgQ"
      }
    },
    {
      "cell_type": "code",
      "source": [
        "# Handling Missing Values & Missing Value Imputation"
      ],
      "metadata": {
        "id": "iRsAHk1K0fpS"
      },
      "execution_count": null,
      "outputs": []
    },
    {
      "cell_type": "markdown",
      "source": [
        "#### What all missing value imputation techniques have you used and why did you use those techniques?"
      ],
      "metadata": {
        "id": "7wuGOrhz0itI"
      }
    },
    {
      "cell_type": "markdown",
      "source": [
        "Answer Here."
      ],
      "metadata": {
        "id": "1ixusLtI0pqI"
      }
    },
    {
      "cell_type": "markdown",
      "source": [
        "### 2. Handling Outliers"
      ],
      "metadata": {
        "id": "id1riN9m0vUs"
      }
    },
    {
      "cell_type": "code",
      "source": [
        "# Handling Outliers & Outlier treatments"
      ],
      "metadata": {
        "id": "M6w2CzZf04JK"
      },
      "execution_count": null,
      "outputs": []
    },
    {
      "cell_type": "markdown",
      "source": [
        "##### What all outlier treatment techniques have you used and why did you use those techniques?"
      ],
      "metadata": {
        "id": "578E2V7j08f6"
      }
    },
    {
      "cell_type": "markdown",
      "source": [
        "Answer Here."
      ],
      "metadata": {
        "id": "uGZz5OrT1HH-"
      }
    },
    {
      "cell_type": "markdown",
      "source": [
        "### 3. Categorical Encoding"
      ],
      "metadata": {
        "id": "89xtkJwZ18nB"
      }
    },
    {
      "cell_type": "code",
      "source": [
        "# Encode your categorical columns"
      ],
      "metadata": {
        "id": "21JmIYMG2hEo"
      },
      "execution_count": null,
      "outputs": []
    },
    {
      "cell_type": "markdown",
      "source": [
        "#### What all categorical encoding techniques have you used & why did you use those techniques?"
      ],
      "metadata": {
        "id": "67NQN5KX2AMe"
      }
    },
    {
      "cell_type": "markdown",
      "source": [
        "Answer Here."
      ],
      "metadata": {
        "id": "UDaue5h32n_G"
      }
    },
    {
      "cell_type": "markdown",
      "source": [
        "### 4. Textual Data Preprocessing \n",
        "(It's mandatory for textual dataset i.e., NLP, Sentiment Analysis, Text Clustering etc.)"
      ],
      "metadata": {
        "id": "Iwf50b-R2tYG"
      }
    },
    {
      "cell_type": "markdown",
      "source": [
        "#### 1. Expand Contraction"
      ],
      "metadata": {
        "id": "GMQiZwjn3iu7"
      }
    },
    {
      "cell_type": "code",
      "source": [
        "# Expand Contraction"
      ],
      "metadata": {
        "id": "PTouz10C3oNN"
      },
      "execution_count": null,
      "outputs": []
    },
    {
      "cell_type": "markdown",
      "source": [
        "#### 2. Lower Casing"
      ],
      "metadata": {
        "id": "WVIkgGqN3qsr"
      }
    },
    {
      "cell_type": "code",
      "source": [
        "# Lower Casing"
      ],
      "metadata": {
        "id": "88JnJ1jN3w7j"
      },
      "execution_count": null,
      "outputs": []
    },
    {
      "cell_type": "markdown",
      "source": [
        "#### 3. Removing Punctuations"
      ],
      "metadata": {
        "id": "XkPnILGE3zoT"
      }
    },
    {
      "cell_type": "code",
      "source": [
        "# Remove Punctuations"
      ],
      "metadata": {
        "id": "vqbBqNaA33c0"
      },
      "execution_count": null,
      "outputs": []
    },
    {
      "cell_type": "markdown",
      "source": [
        "#### 4. Removing URLs & Removing words and digits contain digits."
      ],
      "metadata": {
        "id": "Hlsf0x5436Go"
      }
    },
    {
      "cell_type": "code",
      "source": [
        "# Remove URLs & Remove words and digits contain digits"
      ],
      "metadata": {
        "id": "2sxKgKxu4Ip3"
      },
      "execution_count": null,
      "outputs": []
    },
    {
      "cell_type": "markdown",
      "source": [
        "#### 5. Removing Stopwords & Removing White spaces"
      ],
      "metadata": {
        "id": "mT9DMSJo4nBL"
      }
    },
    {
      "cell_type": "code",
      "source": [
        "# Remove Stopwords"
      ],
      "metadata": {
        "id": "T2LSJh154s8W"
      },
      "execution_count": null,
      "outputs": []
    },
    {
      "cell_type": "code",
      "source": [
        "# Remove White spaces"
      ],
      "metadata": {
        "id": "EgLJGffy4vm0"
      },
      "execution_count": null,
      "outputs": []
    },
    {
      "cell_type": "markdown",
      "source": [
        "#### 6. Rephrase Text"
      ],
      "metadata": {
        "id": "c49ITxTc407N"
      }
    },
    {
      "cell_type": "code",
      "source": [
        "# Rephrase Text"
      ],
      "metadata": {
        "id": "foqY80Qu48N2"
      },
      "execution_count": null,
      "outputs": []
    },
    {
      "cell_type": "markdown",
      "source": [
        "#### 7. Tokenization"
      ],
      "metadata": {
        "id": "OeJFEK0N496M"
      }
    },
    {
      "cell_type": "code",
      "source": [
        "# Tokenization"
      ],
      "metadata": {
        "id": "ijx1rUOS5CUU"
      },
      "execution_count": null,
      "outputs": []
    },
    {
      "cell_type": "markdown",
      "source": [
        "#### 8. Text Normalization"
      ],
      "metadata": {
        "id": "9ExmJH0g5HBk"
      }
    },
    {
      "cell_type": "code",
      "source": [
        "# Normalizing Text (i.e., Stemming, Lemmatization etc.)"
      ],
      "metadata": {
        "id": "AIJ1a-Zc5PY8"
      },
      "execution_count": null,
      "outputs": []
    },
    {
      "cell_type": "markdown",
      "source": [
        "##### Which text normalization technique have you used and why?"
      ],
      "metadata": {
        "id": "cJNqERVU536h"
      }
    },
    {
      "cell_type": "markdown",
      "source": [
        "Answer Here."
      ],
      "metadata": {
        "id": "Z9jKVxE06BC1"
      }
    },
    {
      "cell_type": "markdown",
      "source": [
        "#### 9. Part of speech tagging"
      ],
      "metadata": {
        "id": "k5UmGsbsOxih"
      }
    },
    {
      "cell_type": "code",
      "source": [
        "# POS Taging"
      ],
      "metadata": {
        "id": "btT3ZJBAO6Ik"
      },
      "execution_count": null,
      "outputs": []
    },
    {
      "cell_type": "markdown",
      "source": [
        "#### 10. Text Vectorization"
      ],
      "metadata": {
        "id": "T0VqWOYE6DLQ"
      }
    },
    {
      "cell_type": "code",
      "source": [
        "# Vectorizing Text"
      ],
      "metadata": {
        "id": "yBRtdhth6JDE"
      },
      "execution_count": null,
      "outputs": []
    },
    {
      "cell_type": "markdown",
      "source": [
        "##### Which text vectorization technique have you used and why?"
      ],
      "metadata": {
        "id": "qBMux9mC6MCf"
      }
    },
    {
      "cell_type": "markdown",
      "source": [
        "Answer Here."
      ],
      "metadata": {
        "id": "su2EnbCh6UKQ"
      }
    },
    {
      "cell_type": "markdown",
      "source": [
        "### 4. Feature Manipulation & Selection"
      ],
      "metadata": {
        "id": "-oLEiFgy-5Pf"
      }
    },
    {
      "cell_type": "markdown",
      "source": [
        "#### 1. Feature Manipulation"
      ],
      "metadata": {
        "id": "C74aWNz2AliB"
      }
    },
    {
      "cell_type": "code",
      "source": [
        "# Manipulate Features to minimize feature correlation and create new features"
      ],
      "metadata": {
        "id": "h1qC4yhBApWC"
      },
      "execution_count": null,
      "outputs": []
    },
    {
      "cell_type": "markdown",
      "source": [
        "#### 2. Feature Selection"
      ],
      "metadata": {
        "id": "2DejudWSA-a0"
      }
    },
    {
      "cell_type": "code",
      "source": [
        "# Select your features wisely to avoid overfitting"
      ],
      "metadata": {
        "id": "YLhe8UmaBCEE"
      },
      "execution_count": null,
      "outputs": []
    },
    {
      "cell_type": "markdown",
      "source": [
        "##### What all feature selection methods have you used  and why?"
      ],
      "metadata": {
        "id": "pEMng2IbBLp7"
      }
    },
    {
      "cell_type": "markdown",
      "source": [
        "Answer Here."
      ],
      "metadata": {
        "id": "rb2Lh6Z8BgGs"
      }
    },
    {
      "cell_type": "markdown",
      "source": [
        "##### Which all features you found important and why?"
      ],
      "metadata": {
        "id": "rAdphbQ9Bhjc"
      }
    },
    {
      "cell_type": "markdown",
      "source": [
        "Answer Here."
      ],
      "metadata": {
        "id": "fGgaEstsBnaf"
      }
    },
    {
      "cell_type": "markdown",
      "source": [
        "### 5. Data Transformation"
      ],
      "metadata": {
        "id": "TNVZ9zx19K6k"
      }
    },
    {
      "cell_type": "markdown",
      "source": [
        "#### Do you think that your data needs to be transformed? If yes, which transformation have you used. Explain Why?"
      ],
      "metadata": {
        "id": "nqoHp30x9hH9"
      }
    },
    {
      "cell_type": "code",
      "source": [
        "# Transform Your data"
      ],
      "metadata": {
        "id": "I6quWQ1T9rtH"
      },
      "execution_count": null,
      "outputs": []
    },
    {
      "cell_type": "markdown",
      "source": [
        "### 6. Data Scaling"
      ],
      "metadata": {
        "id": "rMDnDkt2B6du"
      }
    },
    {
      "cell_type": "code",
      "source": [
        "# Scaling your data"
      ],
      "metadata": {
        "id": "dL9LWpySC6x_"
      },
      "execution_count": null,
      "outputs": []
    },
    {
      "cell_type": "markdown",
      "source": [
        "##### Which method have you used to scale you data and why?"
      ],
      "metadata": {
        "id": "yiiVWRdJDDil"
      }
    },
    {
      "cell_type": "markdown",
      "source": [
        "### 7. Dimesionality Reduction"
      ],
      "metadata": {
        "id": "1UUpS68QDMuG"
      }
    },
    {
      "cell_type": "markdown",
      "source": [
        "##### Do you think that dimensionality reduction is needed? Explain Why?"
      ],
      "metadata": {
        "id": "kexQrXU-DjzY"
      }
    },
    {
      "cell_type": "markdown",
      "source": [
        "Answer Here."
      ],
      "metadata": {
        "id": "GGRlBsSGDtTQ"
      }
    },
    {
      "cell_type": "code",
      "source": [
        "# DImensionality Reduction (If needed)"
      ],
      "metadata": {
        "id": "kQfvxBBHDvCa"
      },
      "execution_count": null,
      "outputs": []
    },
    {
      "cell_type": "markdown",
      "source": [
        "##### Which dimensionality reduction technique have you used and why? (If dimensionality reduction done on dataset.)"
      ],
      "metadata": {
        "id": "T5CmagL3EC8N"
      }
    },
    {
      "cell_type": "markdown",
      "source": [
        "Answer Here."
      ],
      "metadata": {
        "id": "ZKr75IDuEM7t"
      }
    },
    {
      "cell_type": "markdown",
      "source": [
        "### 8. Data Splitting"
      ],
      "metadata": {
        "id": "BhH2vgX9EjGr"
      }
    },
    {
      "cell_type": "code",
      "source": [
        "# Split your data to train and test. Choose Splitting ratio wisely."
      ],
      "metadata": {
        "id": "0CTyd2UwEyNM"
      },
      "execution_count": null,
      "outputs": []
    },
    {
      "cell_type": "markdown",
      "source": [
        "##### What data splitting ratio have you used and why? "
      ],
      "metadata": {
        "id": "qjKvONjwE8ra"
      }
    },
    {
      "cell_type": "markdown",
      "source": [
        "Answer Here."
      ],
      "metadata": {
        "id": "Y2lJ8cobFDb_"
      }
    },
    {
      "cell_type": "markdown",
      "source": [
        "### 9. Handling Imbalanced Dataset"
      ],
      "metadata": {
        "id": "P1XJ9OREExlT"
      }
    },
    {
      "cell_type": "markdown",
      "source": [
        "##### Do you think the dataset is imbalanced? Explain Why."
      ],
      "metadata": {
        "id": "VFOzZv6IFROw"
      }
    },
    {
      "cell_type": "markdown",
      "source": [
        "Answer Here."
      ],
      "metadata": {
        "id": "GeKDIv7pFgcC"
      }
    },
    {
      "cell_type": "code",
      "source": [
        "# Handling Imbalanced Dataset (If needed)"
      ],
      "metadata": {
        "id": "nQsRhhZLFiDs"
      },
      "execution_count": null,
      "outputs": []
    },
    {
      "cell_type": "markdown",
      "source": [
        "##### What technique did you use to handle the imbalance dataset and why? (If needed to be balanced)"
      ],
      "metadata": {
        "id": "TIqpNgepFxVj"
      }
    },
    {
      "cell_type": "markdown",
      "source": [
        "Answer Here."
      ],
      "metadata": {
        "id": "qbet1HwdGDTz"
      }
    },
    {
      "cell_type": "markdown",
      "source": [
        "## ***7. ML Model Implementation***"
      ],
      "metadata": {
        "id": "VfCC591jGiD4"
      }
    },
    {
      "cell_type": "markdown",
      "source": [
        "### ML Model - 1"
      ],
      "metadata": {
        "id": "OB4l2ZhMeS1U"
      }
    },
    {
      "cell_type": "code",
      "source": [
        "# ML Model - 1 Implementation\n",
        "\n",
        "# Fit the Algorithm\n",
        "\n",
        "# Predict on the model"
      ],
      "metadata": {
        "id": "7ebyywQieS1U"
      },
      "execution_count": null,
      "outputs": []
    },
    {
      "cell_type": "markdown",
      "source": [
        "#### 1. Explain the ML Model used and it's performance using Evaluation metric Score Chart."
      ],
      "metadata": {
        "id": "ArJBuiUVfxKd"
      }
    },
    {
      "cell_type": "code",
      "source": [
        "# Visualizing evaluation Metric Score chart"
      ],
      "metadata": {
        "id": "rqD5ZohzfxKe"
      },
      "execution_count": null,
      "outputs": []
    },
    {
      "cell_type": "markdown",
      "source": [
        "#### 2. Cross- Validation & Hyperparameter Tuning"
      ],
      "metadata": {
        "id": "4qY1EAkEfxKe"
      }
    },
    {
      "cell_type": "code",
      "source": [
        "# ML Model - 1 Implementation with hyperparameter optimization techniques (i.e., GridSearch CV, RandomSearch CV, Bayesian Optimization etc.)\n",
        "\n",
        "# Fit the Algorithm\n",
        "\n",
        "# Predict on the model"
      ],
      "metadata": {
        "id": "Dy61ujd6fxKe"
      },
      "execution_count": null,
      "outputs": []
    },
    {
      "cell_type": "markdown",
      "source": [
        "##### Which hyperparameter optimization technique have you used and why?"
      ],
      "metadata": {
        "id": "PiV4Ypx8fxKe"
      }
    },
    {
      "cell_type": "markdown",
      "source": [
        "Answer Here."
      ],
      "metadata": {
        "id": "negyGRa7fxKf"
      }
    },
    {
      "cell_type": "markdown",
      "source": [
        "##### Have you seen any improvement? Note down the improvement with updates Evaluation metric Score Chart."
      ],
      "metadata": {
        "id": "TfvqoZmBfxKf"
      }
    },
    {
      "cell_type": "markdown",
      "source": [
        "Answer Here."
      ],
      "metadata": {
        "id": "OaLui8CcfxKf"
      }
    },
    {
      "cell_type": "markdown",
      "source": [
        "### ML Model - 2"
      ],
      "metadata": {
        "id": "dJ2tPlVmpsJ0"
      }
    },
    {
      "cell_type": "markdown",
      "source": [
        "#### 1. Explain the ML Model used and it's performance using Evaluation metric Score Chart."
      ],
      "metadata": {
        "id": "JWYfwnehpsJ1"
      }
    },
    {
      "cell_type": "code",
      "source": [
        "# Visualizing evaluation Metric Score chart"
      ],
      "metadata": {
        "id": "yEl-hgQWpsJ1"
      },
      "execution_count": null,
      "outputs": []
    },
    {
      "cell_type": "markdown",
      "source": [
        "#### 2. Cross- Validation & Hyperparameter Tuning"
      ],
      "metadata": {
        "id": "-jK_YjpMpsJ2"
      }
    },
    {
      "cell_type": "code",
      "source": [
        "# ML Model - 1 Implementation with hyperparameter optimization techniques (i.e., GridSearch CV, RandomSearch CV, Bayesian Optimization etc.)\n",
        "\n",
        "# Fit the Algorithm\n",
        "\n",
        "# Predict on the model"
      ],
      "metadata": {
        "id": "Dn0EOfS6psJ2"
      },
      "execution_count": null,
      "outputs": []
    },
    {
      "cell_type": "markdown",
      "source": [
        "##### Which hyperparameter optimization technique have you used and why?"
      ],
      "metadata": {
        "id": "HAih1iBOpsJ2"
      }
    },
    {
      "cell_type": "markdown",
      "source": [
        "Answer Here."
      ],
      "metadata": {
        "id": "9kBgjYcdpsJ2"
      }
    },
    {
      "cell_type": "markdown",
      "source": [
        "##### Have you seen any improvement? Note down the improvement with updates Evaluation metric Score Chart."
      ],
      "metadata": {
        "id": "zVGeBEFhpsJ2"
      }
    },
    {
      "cell_type": "markdown",
      "source": [
        "Answer Here."
      ],
      "metadata": {
        "id": "74yRdG6UpsJ3"
      }
    },
    {
      "cell_type": "markdown",
      "source": [
        "#### 3. Explain each evaluation metric's indication towards business and the business impact pf the ML model used."
      ],
      "metadata": {
        "id": "bmKjuQ-FpsJ3"
      }
    },
    {
      "cell_type": "markdown",
      "source": [
        "Answer Here."
      ],
      "metadata": {
        "id": "BDKtOrBQpsJ3"
      }
    },
    {
      "cell_type": "markdown",
      "source": [
        "### ML Model - 3"
      ],
      "metadata": {
        "id": "Fze-IPXLpx6K"
      }
    },
    {
      "cell_type": "code",
      "source": [
        "# ML Model - 3 Implementation\n",
        "\n",
        "# Fit the Algorithm\n",
        "\n",
        "# Predict on the model"
      ],
      "metadata": {
        "id": "FFrSXAtrpx6M"
      },
      "execution_count": null,
      "outputs": []
    },
    {
      "cell_type": "markdown",
      "source": [
        "#### 1. Explain the ML Model used and it's performance using Evaluation metric Score Chart."
      ],
      "metadata": {
        "id": "7AN1z2sKpx6M"
      }
    },
    {
      "cell_type": "code",
      "source": [
        "# Visualizing evaluation Metric Score chart"
      ],
      "metadata": {
        "id": "xIY4lxxGpx6M"
      },
      "execution_count": null,
      "outputs": []
    },
    {
      "cell_type": "markdown",
      "source": [
        "#### 2. Cross- Validation & Hyperparameter Tuning"
      ],
      "metadata": {
        "id": "9PIHJqyupx6M"
      }
    },
    {
      "cell_type": "code",
      "source": [
        "# ML Model - 3 Implementation with hyperparameter optimization techniques (i.e., GridSearch CV, RandomSearch CV, Bayesian Optimization etc.)\n",
        "\n",
        "# Fit the Algorithm\n",
        "\n",
        "# Predict on the model"
      ],
      "metadata": {
        "id": "eSVXuaSKpx6M"
      },
      "execution_count": null,
      "outputs": []
    },
    {
      "cell_type": "markdown",
      "source": [
        "##### Which hyperparameter optimization technique have you used and why?"
      ],
      "metadata": {
        "id": "_-qAgymDpx6N"
      }
    },
    {
      "cell_type": "markdown",
      "source": [
        "Answer Here."
      ],
      "metadata": {
        "id": "lQMffxkwpx6N"
      }
    },
    {
      "cell_type": "markdown",
      "source": [
        "##### Have you seen any improvement? Note down the improvement with updates Evaluation metric Score Chart."
      ],
      "metadata": {
        "id": "Z-hykwinpx6N"
      }
    },
    {
      "cell_type": "markdown",
      "source": [
        "Answer Here."
      ],
      "metadata": {
        "id": "MzVzZC6opx6N"
      }
    },
    {
      "cell_type": "markdown",
      "source": [
        "### 1. Which Evaluation metrics did you consider for a positive business impact and why?"
      ],
      "metadata": {
        "id": "h_CCil-SKHpo"
      }
    },
    {
      "cell_type": "markdown",
      "source": [
        "Answer Here."
      ],
      "metadata": {
        "id": "jHVz9hHDKFms"
      }
    },
    {
      "cell_type": "markdown",
      "source": [
        "### 2. Which ML model did you choose from the above created models as your final prediction model and why?"
      ],
      "metadata": {
        "id": "cBFFvTBNJzUa"
      }
    },
    {
      "cell_type": "markdown",
      "source": [
        "Answer Here."
      ],
      "metadata": {
        "id": "6ksF5Q1LKTVm"
      }
    },
    {
      "cell_type": "markdown",
      "source": [
        "### 3. Explain the model which you have used and the feature importance using any model explainability tool?"
      ],
      "metadata": {
        "id": "HvGl1hHyA_VK"
      }
    },
    {
      "cell_type": "markdown",
      "source": [
        "Answer Here."
      ],
      "metadata": {
        "id": "YnvVTiIxBL-C"
      }
    },
    {
      "cell_type": "markdown",
      "source": [
        "## ***8.*** ***Future Work (Optional)***"
      ],
      "metadata": {
        "id": "EyNgTHvd2WFk"
      }
    },
    {
      "cell_type": "markdown",
      "source": [
        "### 1. Save the best performing ml model in a pickle file or joblib file format for deployment process.\n"
      ],
      "metadata": {
        "id": "KH5McJBi2d8v"
      }
    },
    {
      "cell_type": "code",
      "source": [
        "# Save the File"
      ],
      "metadata": {
        "id": "bQIANRl32f4J"
      },
      "execution_count": null,
      "outputs": []
    },
    {
      "cell_type": "markdown",
      "source": [
        "### 2. Again Load the saved model file and try to predict unseen data for a sanity check.\n"
      ],
      "metadata": {
        "id": "iW_Lq9qf2h6X"
      }
    },
    {
      "cell_type": "code",
      "source": [
        "# Load the File and predict unseen data."
      ],
      "metadata": {
        "id": "oEXk9ydD2nVC"
      },
      "execution_count": null,
      "outputs": []
    },
    {
      "cell_type": "markdown",
      "source": [
        "### ***Congrats! Your model is successfully created and ready for deployment on a live server for a real user interaction !!!***"
      ],
      "metadata": {
        "id": "-Kee-DAl2viO"
      }
    },
    {
      "cell_type": "markdown",
      "source": [
        "# **Conclusion**"
      ],
      "metadata": {
        "id": "gCX9965dhzqZ"
      }
    },
    {
      "cell_type": "markdown",
      "source": [
        "Write the conclusion here."
      ],
      "metadata": {
        "id": "Fjb1IsQkh3yE"
      }
    },
    {
      "cell_type": "markdown",
      "source": [
        "### ***Hurrah! You have successfully completed your Machine Learning Capstone Project !!!***"
      ],
      "metadata": {
        "id": "gIfDvo9L0UH2"
      }
    }
  ]
}